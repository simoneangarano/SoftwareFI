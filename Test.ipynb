{
 "cells": [
  {
   "cell_type": "markdown",
   "metadata": {},
   "source": [
    "# Model"
   ]
  },
  {
   "cell_type": "markdown",
   "metadata": {},
   "source": [
    "## Weights"
   ]
  },
  {
   "cell_type": "code",
   "execution_count": null,
   "metadata": {},
   "outputs": [],
   "source": [
    "import torch\n",
    "from utils.models.ghostnetv2 import (\n",
    "    ghostnetv2,\n",
    "    SegmentationHeadGhostBN,\n",
    "    GhostNetSS,\n",
    "    load_fi_weights,\n",
    ")\n",
    "from utils.utils import get_parser, parse_args\n",
    "\n",
    "parser, config_parser = get_parser()\n",
    "args = parse_args(parser, config_parser, args=\"\", verbose=False)\n",
    "\n",
    "# Define the model\n",
    "backbone = ghostnetv2(args)\n",
    "\n",
    "x = torch.randn(1, 5, 512, 512)\n",
    "(y, fwargs), intermediates = backbone(x)\n",
    "print(y.shape)\n",
    "print([inter.shape for inter in intermediates])\n",
    "print(fwargs)"
   ]
  },
  {
   "cell_type": "code",
   "execution_count": null,
   "metadata": {},
   "outputs": [],
   "source": [
    "head = SegmentationHeadGhostBN(args)\n",
    "model = GhostNetSS(backbone, head, args)"
   ]
  },
  {
   "cell_type": "code",
   "execution_count": null,
   "metadata": {},
   "outputs": [],
   "source": [
    "l_model = [l for l in model.state_dict().keys() if \"dummy\" not in l]\n",
    "l_weights = list(\n",
    "    torch.load(\"ckpt/weights/bb_heads_clouds.pth\", weights_only=True).keys()\n",
    ")"
   ]
  },
  {
   "cell_type": "code",
   "execution_count": null,
   "metadata": {},
   "outputs": [],
   "source": [
    "len(l_model), len(l_weights)"
   ]
  },
  {
   "cell_type": "code",
   "execution_count": null,
   "metadata": {},
   "outputs": [],
   "source": [
    "list(zip(l_model, l_weights))"
   ]
  },
  {
   "cell_type": "code",
   "execution_count": null,
   "metadata": {},
   "outputs": [],
   "source": [
    "model = load_fi_weights(model, \"ckpt/weights/bb_heads_clouds.pth\").cuda()\n",
    "model = load_fi_weights(model, \"ckpt/weights/bb_heads_clouds.pth\").cuda()"
   ]
  },
  {
   "cell_type": "markdown",
   "metadata": {},
   "source": [
    "## Layer Info"
   ]
  },
  {
   "cell_type": "code",
   "execution_count": null,
   "metadata": {},
   "outputs": [],
   "source": [
    "%load_ext autoreload\n",
    "%autoreload 2\n",
    "\n",
    "import csv\n",
    "import torch\n",
    "import pytorch_lightning as pl\n",
    "\n",
    "# from pytorchfi import core as pfi_core\n",
    "\n",
    "from utils.utils import get_parser, parse_args, build_model\n",
    "from utils.data.data_module import CoreDataModule\n",
    "from utils.models.LightningModelWrapper import ModelWrapper\n",
    "\n",
    "torch.set_float32_matmul_precision(\"high\")\n",
    "pl.seed_everything(0, workers=True)\n",
    "torch.backends.cudnn.benchmark = True\n",
    "\n",
    "parser, config_parser = get_parser()\n",
    "args = parse_args(parser, config_parser, args=\"\", verbose=False)"
   ]
  },
  {
   "cell_type": "code",
   "execution_count": null,
   "metadata": {},
   "outputs": [],
   "source": [
    "# Define the datamodule\n",
    "datamodule = CoreDataModule(args)\n",
    "\n",
    "# Define the model\n",
    "net = build_model(args)\n",
    "net = net.cuda().eval()\n",
    "\n",
    "model = ModelWrapper(model=net, args=args)"
   ]
  },
  {
   "cell_type": "markdown",
   "metadata": {},
   "source": [
    "Blocks (12 to toggle): \n",
    "* ConvBnAct ✅\n",
    "* 9 Blocks ✅ ( consisting of 16 GhostBottleneckV2 sub-blocks) ❌\n",
    "* ConvBnAct ✅\n",
    "* AdaptiveAvgPool2d ❌\n",
    "* ConvAct ✅\n",
    "* Linear ❌\n",
    "\n",
    "\n",
    "Block Types (2 to toggle):\n",
    "* Conv2d ✅\n",
    "* BatchNorm2d ✅\n",
    "* Linear ❌\n",
    "\n",
    "inject_index (259 in total):\n",
    "* 137 Conv2d ✅\n",
    "* 122 BatchNorm2d ✅"
   ]
  },
  {
   "cell_type": "code",
   "execution_count": null,
   "metadata": {},
   "outputs": [],
   "source": [
    "inj_layers = []\n",
    "idx = 0\n",
    "for i, (name, desc) in enumerate(model.model.named_modules()):\n",
    "    n = name\n",
    "    t = str(type(desc)).split(\".\")[-1].split(\"'\")[0]\n",
    "    if t in [\"Conv2d\", \"BatchNorm2d\", \"Linear\"]:\n",
    "        inj_layers.append((idx, t, i, n))\n",
    "        idx += 1"
   ]
  },
  {
   "cell_type": "code",
   "execution_count": null,
   "metadata": {},
   "outputs": [],
   "source": [
    "csv.writer(open(f\"cfg/{args.name}_layers_info.csv\", mode=\"w\")).writerows(inj_layers)"
   ]
  },
  {
   "cell_type": "markdown",
   "metadata": {},
   "source": [
    "## Check Predictions"
   ]
  },
  {
   "cell_type": "code",
   "execution_count": null,
   "metadata": {},
   "outputs": [],
   "source": [
    "import matplotlib.pyplot as plt\n",
    "import torch\n",
    "from utils.data.data_module import CoreDataModule\n",
    "from utils.utils import build_model, get_parser, parse_args, entropy"
   ]
  },
  {
   "cell_type": "code",
   "execution_count": null,
   "metadata": {},
   "outputs": [],
   "source": [
    "parser, config_parser = get_parser()\n",
    "args = parse_args(parser, config_parser, args=\"\", verbose=False)\n",
    "args.batch_size = 4\n",
    "args.stats = False\n",
    "args.shuffle = True\n",
    "args.shuffle = True\n",
    "\n",
    "datamodule = CoreDataModule(args)\n",
    "net = build_model(args)\n",
    "net = net.eval()  # .cuda()\n",
    "\n",
    "loss = torch.nn.CrossEntropyLoss(reduction=\"none\")\n",
    "net = net.eval()  # .cuda()\n",
    "\n",
    "loss = torch.nn.CrossEntropyLoss(reduction=\"none\")"
   ]
  },
  {
   "cell_type": "markdown",
   "metadata": {},
   "source": [
    "### Check Injection"
   ]
  },
  {
   "cell_type": "code",
   "execution_count": null,
   "metadata": {},
   "outputs": [],
   "source": [
    "for _, batch in enumerate(datamodule.dataloader()):\n",
    "    # batch = [b.cuda() for b in batch]\n",
    "    noisy, clean = net.validation_step(batch, inject_index=args.inject_index)\n",
    "    print(\"Min\")\n",
    "    print(clean[\"logits\"].flatten(1).min(1).values.numpy())\n",
    "    print(noisy[\"logits\"].flatten(1).min(1).values.numpy())\n",
    "    print(\"\\nMax\")\n",
    "    print(clean[\"logits\"].flatten(1).max(1).values.numpy())\n",
    "    print(noisy[\"logits\"].flatten(1).max(1).values.numpy())\n",
    "    print(\"\\np\")\n",
    "    print(clean[\"p\"])\n",
    "    print(noisy[\"p\"])\n",
    "    print(\"\\nEntropy\")\n",
    "    print(entropy(clean[\"logits\"].detach().cpu().numpy()))\n",
    "    print(entropy(noisy[\"logits\"].detach().cpu().numpy()))\n",
    "    print(\"\\nFaulty Indexes\")\n",
    "    print((clean[\"fwargs\"][\"faulty_idxs\"] > -1).numpy())\n",
    "    print((noisy[\"fwargs\"][\"faulty_idxs\"] > -1).numpy())\n",
    "    print(\"\\nLoss\")\n",
    "    print(loss(clean[\"logits\"], clean[\"y\"]).flatten(1).mean(1).numpy())\n",
    "    print(loss(noisy[\"logits\"], noisy[\"y\"]).flatten(1).mean(1).numpy())\n",
    "    print(\"\\nAccuracy\")\n",
    "    print(\n",
    "        torch.mean(\n",
    "            clean[\"y\"] == clean[\"preds\"], dim=(1, 2), dtype=torch.float32\n",
    "        ).numpy()\n",
    "    )\n",
    "    print(\n",
    "        torch.mean(\n",
    "            clean[\"y\"] == noisy[\"preds\"], dim=(1, 2), dtype=torch.float32\n",
    "        ).numpy()\n",
    "    )\n",
    "    if _ == 0:\n",
    "        break"
   ]
  },
  {
   "cell_type": "code",
   "execution_count": null,
   "metadata": {},
   "outputs": [],
   "source": [
    "print(entropy((clean[\"probs\"]).detach().cpu().numpy()))\n",
    "print(entropy((noisy[\"probs\"]).detach().cpu().numpy()))"
   ]
  },
  {
   "cell_type": "code",
   "execution_count": null,
   "metadata": {},
   "outputs": [],
   "source": [
    "i = 0"
   ]
  },
  {
   "cell_type": "code",
   "execution_count": null,
   "metadata": {},
   "outputs": [],
   "source": [
    "plt.hist(\n",
    "    clean[\"logits\"][i].detach().cpu().numpy().flatten(), bins=100, log=True, alpha=0.5\n",
    ")\n",
    "plt.hist(\n",
    "    noisy[\"logits\"][i].detach().cpu().numpy().flatten().clip(-100, 100),\n",
    "    bins=100,\n",
    "    log=True,\n",
    "    alpha=0.5,\n",
    ")\n",
    "plt.show()"
   ]
  },
  {
   "cell_type": "code",
   "execution_count": null,
   "metadata": {},
   "outputs": [],
   "source": [
    "plt.hist(\n",
    "    clean[\"probs\"][i].detach().cpu().numpy().flatten(), bins=100, log=True, alpha=0.5\n",
    ")\n",
    "plt.hist(\n",
    "    noisy[\"probs\"][i].detach().cpu().numpy().flatten(), bins=100, log=True, alpha=0.5\n",
    ")\n",
    "plt.show()"
   ]
  },
  {
   "cell_type": "code",
   "execution_count": null,
   "metadata": {},
   "outputs": [],
   "source": [
    "plt.imshow(clean[\"y\"][i].detach().cpu().numpy().squeeze(), vmin=0, vmax=2)\n",
    "print(clean[\"y\"][i].detach().cpu().squeeze().unique())\n",
    "plt.show()\n",
    "\n",
    "plt.imshow(\n",
    "    clean[\"probs\"][i].detach().cpu().permute(1, 2, 0).numpy().squeeze(), vmin=0, vmax=2\n",
    ")\n",
    "print(clean[\"preds\"][i].detach().cpu().squeeze().unique())\n",
    "plt.show()\n",
    "\n",
    "plt.imshow(\n",
    "    noisy[\"probs\"][i].detach().cpu().permute(1, 2, 0).numpy().squeeze(), vmin=0, vmax=2\n",
    ")\n",
    "print(noisy[\"preds\"][i].detach().cpu().squeeze().unique())\n",
    "plt.show()"
   ]
  },
  {
   "cell_type": "markdown",
   "metadata": {},
   "source": [
    "### Check Metrics"
   ]
  },
  {
   "cell_type": "code",
   "execution_count": null,
   "metadata": {},
   "outputs": [],
   "source": [
    "# V1\n",
    "from torchmetrics.segmentation import MeanIoU\n",
    "from torchmetrics.classification import MulticlassAccuracy\n",
    "\n",
    "v1_miou = MeanIoU(\n",
    "    num_classes=args.num_classes, input_format=\"index\", include_background=True\n",
    ")  # include_background=False -> ignore index 0\n",
    "v1_acc = MulticlassAccuracy(\n",
    "    num_classes=args.num_classes, average=\"micro\"\n",
    ")  # macro -> balanced accuracy\n",
    "\n",
    "# V2\n",
    "from utils.segmentation.stream_metrics import StreamSegMetrics\n",
    "\n",
    "v2_metrics = StreamSegMetrics(args.num_classes, ignore_index=None)\n",
    "v2n_metrics = StreamSegMetrics(args.num_classes, ignore_index=None)\n",
    "\n",
    "# V3\n",
    "import torch\n",
    "from utils.models.LightningModelWrapper import iouCalc\n",
    "\n",
    "v3_miou = iouCalc(validClasses=range(args.num_classes))\n",
    "v3n_miou = iouCalc(validClasses=range(args.num_classes))"
   ]
  },
  {
   "cell_type": "code",
   "execution_count": null,
   "metadata": {},
   "outputs": [],
   "source": [
    "for _, batch in enumerate(datamodule.dataloader()):\n",
    "    # batch = [b.cuda() for b in batch]\n",
    "    noisy, clean = net.validation_step(batch, inject_index=args.inject_index)\n",
    "    y = clean[\"y\"]\n",
    "    probs, preds = clean[\"probs\"], clean[\"preds\"]\n",
    "    n_probs, n_preds = noisy[\"probs\"], noisy[\"preds\"]\n",
    "\n",
    "    # V1\n",
    "    v1, v1n = {}, {}\n",
    "    v1[\"acc\"] = v1_acc(preds, y)\n",
    "    v1[\"miou\"] = v1_miou(preds, y)\n",
    "    v1n[\"acc\"] = v1_acc(n_preds, y)\n",
    "    v1n[\"miou\"] = v1_miou(n_preds, y)\n",
    "    # V2\n",
    "    v2, v2n = {}, {}\n",
    "    v2_metrics.update(y.cpu().numpy(), preds.cpu().numpy())\n",
    "    v2n_metrics.update(y.cpu().numpy(), n_preds.cpu().numpy())\n",
    "    results = v2_metrics.get_results()\n",
    "    n_results = v2n_metrics.get_results()\n",
    "    v2_metrics.reset(), v2n_metrics.reset()\n",
    "    v2[\"acc\"] = results[\"Overall Acc\"]\n",
    "    v2[\"miou\"] = results[\"Mean IoU\"]\n",
    "    v2[\"bacc\"] = results[\"Mean Acc\"]\n",
    "    v2n[\"acc\"] = n_results[\"Overall Acc\"]\n",
    "    v2n[\"miou\"] = n_results[\"Mean IoU\"]\n",
    "    v2n[\"bacc\"] = n_results[\"Mean Acc\"]\n",
    "    # V3\n",
    "    v3, v3n = {}, {}\n",
    "    v3[\"acc\"] = torch.mean((preds == y).float()).cpu().numpy()\n",
    "    v3n[\"acc\"] = torch.mean((n_preds == y).float()).cpu().numpy()\n",
    "    v3_miou.evaluateBatch(preds, y)\n",
    "    v3n_miou.evaluateBatch(n_preds, y)\n",
    "    v3[\"miou\"] = v3_miou.outputScores()\n",
    "    v3n[\"miou\"] = v3n_miou.outputScores()\n",
    "    v3_miou.clear(), v3n_miou.clear()\n",
    "    break"
   ]
  },
  {
   "cell_type": "code",
   "execution_count": null,
   "metadata": {},
   "outputs": [],
   "source": [
    "float(v1[\"acc\"]), float(v1n[\"acc\"]), v2[\"acc\"], v2n[\"acc\"], float(v3[\"acc\"]), float(\n",
    "    v3n[\"acc\"]\n",
    ")  # all equal"
   ]
  },
  {
   "cell_type": "code",
   "execution_count": null,
   "metadata": {},
   "outputs": [],
   "source": [
    "float(v1[\"miou\"]), float(v1n[\"miou\"]), v2[\"miou\"], v2n[\"miou\"], float(\n",
    "    v3[\"miou\"]\n",
    "), float(\n",
    "    v3n[\"miou\"]\n",
    ")  # all equal"
   ]
  },
  {
   "cell_type": "code",
   "execution_count": null,
   "metadata": {},
   "outputs": [],
   "source": [
    "v2[\"bacc\"], v2n[\"bacc\"]  # balanced accuracy"
   ]
  },
  {
   "cell_type": "code",
   "execution_count": null,
   "metadata": {},
   "outputs": [],
   "source": [
    "v1, v1n"
   ]
  },
  {
   "cell_type": "code",
   "execution_count": null,
   "metadata": {},
   "outputs": [],
   "source": [
    "v2, v2n"
   ]
  },
  {
   "cell_type": "code",
   "execution_count": null,
   "metadata": {},
   "outputs": [],
   "source": [
    "v3, v3n"
   ]
  },
  {
   "cell_type": "markdown",
   "metadata": {},
   "source": [
    "# Results"
   ]
  },
  {
   "cell_type": "markdown",
   "metadata": {},
   "source": [
    "## Validation Results"
   ]
  },
  {
   "cell_type": "code",
   "execution_count": null,
   "metadata": {},
   "outputs": [],
   "source": [
    "import json, csv\n",
    "from utils.utils import get_parser, parse_args, plot_results\n",
    "\n",
    "parser, config_parser = get_parser()\n",
    "args = parse_args(parser, config_parser, args=\"\", verbose=False)\n",
    "\n",
    "reader = csv.reader(open(f\"cfg/{args.name}_layers_info.csv\", mode=\"r\"))\n",
    "layers = [\n",
    "    {\n",
    "        \"inj_idx\": inj_idx,\n",
    "        \"layer_type\": layer_type,\n",
    "        \"model_idx\": model_idx,\n",
    "        \"layer_name\": layer_name,\n",
    "    }\n",
    "    for inj_idx, layer_type, model_idx, layer_name in reader\n",
    "]"
   ]
  },
  {
   "cell_type": "code",
   "execution_count": null,
   "metadata": {},
   "outputs": [],
   "source": [
    "results = json.load(open(f\"ckpt/{args.exp}_eval.json\", \"r\"))"
   ]
  },
  {
   "cell_type": "code",
   "execution_count": null,
   "metadata": {},
   "outputs": [],
   "source": [
    "plot_results(results, layers, \"all\")  # loss, acc, miou, bacc"
   ]
  },
  {
   "cell_type": "markdown",
   "metadata": {},
   "source": [
    "* Short Conv module is very robust to injection\n",
    "* BatchNorm2d is slightly less robust to injection than Conv2d"
   ]
  },
  {
   "cell_type": "markdown",
   "metadata": {},
   "source": [
    "## Intermediate Output Statistics"
   ]
  },
  {
   "cell_type": "code",
   "execution_count": null,
   "metadata": {},
   "outputs": [],
   "source": [
    "%load_ext autoreload\n",
    "%autoreload 2\n",
    "\n",
    "import json\n",
    "import pandas as pd\n",
    "\n",
    "from utils.utils import get_parser, parse_args, get_layer_type, plot_intermediate_stats\n",
    "from utils.models.ghostnetv2 import (\n",
    "    ghostnetv2,\n",
    "    SegmentationHeadGhostBN,\n",
    "    GhostNetSS,\n",
    ")\n",
    "\n",
    "parser, config_parser = get_parser()\n",
    "args = parse_args(parser, config_parser, args=\"\", verbose=False)\n",
    "\n",
    "args.stats = False"
   ]
  },
  {
   "cell_type": "code",
   "execution_count": null,
   "metadata": {},
   "outputs": [],
   "source": [
    "# Define the model\n",
    "backbone = ghostnetv2(\n",
    "    args=args,\n",
    ")\n",
    "head = SegmentationHeadGhostBN(args=args)\n",
    "model = GhostNetSS(backbone, head, args=args)\n",
    "# model = load_fi_weights(model, args.ckpt).cuda()"
   ]
  },
  {
   "cell_type": "code",
   "execution_count": null,
   "metadata": {},
   "outputs": [],
   "source": [
    "# Fault injected model stats\n",
    "print(\"loading \", f\"ckpt/{args.exp}_stats.json\")\n",
    "fresults = json.load(open(f\"ckpt/{args.exp}_stats.json\", \"r\"))\n",
    "fresults = pd.DataFrame.from_dict(\n",
    "    fresults,\n",
    "    orient=\"index\",\n",
    "    columns=[\"mean\", \"std\", \"min\", \"max\", \"entropy\", \"amean\", \"asum\"],\n",
    ")\n",
    "llist = [get_layer_type(model, layer) for layer in fresults.index]\n",
    "fresults[\"name\"] = fresults.index\n",
    "fresults[\"layer_type\"] = llist\n",
    "fresults.reset_index(drop=True, inplace=True)"
   ]
  },
  {
   "cell_type": "code",
   "execution_count": null,
   "metadata": {},
   "outputs": [],
   "source": [
    "# Original model stats\n",
    "args.exp = f\"{args.name}_{args.activation}\"\n",
    "if args.stats:\n",
    "    args.exp += \"_stats\"\n",
    "    if args.clip:\n",
    "        args.exp += \"_clip\"\n",
    "print(\"loading \", f\"ckpt/{args.exp}_stats.json\")\n",
    "results = json.load(open(f\"ckpt/{args.exp.split('_inject')[0]}_stats.json\", \"r\"))\n",
    "results = pd.DataFrame.from_dict(\n",
    "    results,\n",
    "    orient=\"index\",\n",
    "    columns=[\"mean\", \"std\", \"min\", \"max\", \"entropy\", \"amean\", \"asum\"],\n",
    ")\n",
    "llist = [get_layer_type(model, layer) for layer in results.index]\n",
    "results[\"name\"] = results.index\n",
    "llist[-1] = \"ConvInjector\"\n",
    "results[\"layer_type\"] = llist\n",
    "results.reset_index(drop=True, inplace=True)"
   ]
  },
  {
   "cell_type": "code",
   "execution_count": null,
   "metadata": {},
   "outputs": [],
   "source": [
    "plot_intermediate_stats(\n",
    "    results=results,\n",
    "    fresults=fresults,\n",
    "    columns=[\"layer_type\", \"amean\"],\n",
    "    per_layer=True,\n",
    "    ylim=None,\n",
    "    log=True,\n",
    "    alpha=0.5,\n",
    ")"
   ]
  },
  {
   "cell_type": "markdown",
   "metadata": {},
   "source": [
    "- Conv: -\n",
    "- Linear: -\n",
    "- BN: ClipBN (min, max) -> 0 or (min, max) (or 10x)\n",
    "- Activation: ClipAct (min, max) -> 0 or (min, max) (or 10x)\n",
    "- AvgPool: ClipAvgPool2d (min, max) -> 0 or (min, max) (or 10x)"
   ]
  },
  {
   "cell_type": "markdown",
   "metadata": {},
   "source": [
    "# _misc"
   ]
  },
  {
   "cell_type": "markdown",
   "metadata": {},
   "source": [
    "### Import .tif"
   ]
  },
  {
   "cell_type": "code",
   "execution_count": null,
   "metadata": {},
   "outputs": [],
   "source": [
    "# From TIF file to numpy array\n",
    "\n",
    "import numpy as np\n",
    "import rasterio\n",
    "\n",
    "img_path = \"data/2021-09-01T10-00-00Z.tif\"\n",
    "\n",
    "# Open the images using rasterio\n",
    "with rasterio.open(img_path) as img:\n",
    "    b02 = img.read(2)  # Band 2 = Blue\n",
    "    b03 = img.read(3)  # Band 3 = Green\n",
    "    b04 = img.read(4)  # Band 4 = Red\n",
    "    b08 = img.read(8)  # Band 8 = NIR\n",
    "    b11 = img.read(11)  # Band 11 = SWIR1\n",
    "\n",
    "    # Stack the bands\n",
    "    img_image = np.stack([b02, b03, b04, b08, b11], axis=0).astype(np.float32)\n",
    "# From TIF file to numpy array\n",
    "\n",
    "import numpy as np\n",
    "import rasterio\n",
    "\n",
    "img_path = \"data/2021-09-01T10-00-00Z.tif\"\n",
    "\n",
    "# Open the images using rasterio\n",
    "with rasterio.open(img_path) as img:\n",
    "    b02 = img.read(2)  # Band 2 = Blue\n",
    "    b03 = img.read(3)  # Band 3 = Green\n",
    "    b04 = img.read(4)  # Band 4 = Red\n",
    "    b08 = img.read(8)  # Band 8 = NIR\n",
    "    b11 = img.read(11)  # Band 11 = SWIR1\n",
    "\n",
    "    # Stack the bands\n",
    "    img_image = np.stack([b02, b03, b04, b08, b11], axis=0).astype(np.float32)"
   ]
  },
  {
   "cell_type": "markdown",
   "metadata": {},
   "source": [
    "### Update faulty_idxs"
   ]
  },
  {
   "cell_type": "code",
   "execution_count": null,
   "metadata": {},
   "outputs": [],
   "source": [
    "import torch\n",
    "\n",
    "BS = 4\n",
    "faulty_idxs = -torch.ones(BS)"
   ]
  },
  {
   "cell_type": "code",
   "execution_count": null,
   "metadata": {},
   "outputs": [],
   "source": [
    "sampled_indexes = torch.randint(0, 2, (BS,))\n",
    "cnt = 99"
   ]
  },
  {
   "cell_type": "code",
   "execution_count": null,
   "metadata": {},
   "outputs": [],
   "source": [
    "faulty_idxs, sampled_indexes"
   ]
  },
  {
   "cell_type": "code",
   "execution_count": null,
   "metadata": {},
   "outputs": [],
   "source": [
    "faulty_idxs += (faulty_idxs < 0) * sampled_indexes * (cnt + 1)"
   ]
  },
  {
   "cell_type": "markdown",
   "metadata": {},
   "source": [
    "### Multithreading"
   ]
  },
  {
   "cell_type": "code",
   "execution_count": null,
   "metadata": {},
   "outputs": [],
   "source": [
    "import itertools\n",
    "from concurrent.futures import ThreadPoolExecutor\n",
    "from time import sleep, time\n",
    "\n",
    "\n",
    "def do_something(number, string, boolean):\n",
    "    sleep(1)  # Simulate a long task\n",
    "    return f\"{number} {string} {boolean}\""
   ]
  },
  {
   "cell_type": "code",
   "execution_count": null,
   "metadata": {},
   "outputs": [],
   "source": [
    "# Prep\n",
    "level_1 = [1, 2, 3]\n",
    "level_2 = [\"a\", \"b\", \"c\"]\n",
    "level_3 = [True, False]\n",
    "start = time()\n",
    "\n",
    "# Define a thread pool with 3 workers\n",
    "with ThreadPoolExecutor(max_workers=3) as executor:\n",
    "\n",
    "    # This can be a list comprehension, but I'm using a for loop for clarity\n",
    "    # Itertools is used to squash the 3 lists into a single iterable of tuples\n",
    "    # whose elements are the arguments for the function\n",
    "    futures = []\n",
    "    for args in itertools.product(level_1, level_2, level_3):\n",
    "        futures.append(executor.submit(do_something, *args))\n",
    "\n",
    "    # Note: in production code, you'd use a timeout and handle timeout exceptions\n",
    "    # to avoid blocking indefinitely\n",
    "    results = [future.result() for future in futures]\n",
    "\n",
    "# Print results\n",
    "end = time()\n",
    "print(\"Results:\", results)\n",
    "print(\"Time:\", end - start)"
   ]
  },
  {
   "cell_type": "code",
   "execution_count": null,
   "metadata": {},
   "outputs": [],
   "source": [
    "# Prep\n",
    "level_1 = [1, 2, 3]\n",
    "level_2 = [\"a\", \"b\", \"c\"]\n",
    "level_3 = [True, False]\n",
    "start = time()\n",
    "\n",
    "for n in level_1:\n",
    "    for s in level_2:\n",
    "        for b in level_3:\n",
    "            do_something(n, s, b)\n",
    "\n",
    "# Print results\n",
    "end = time()\n",
    "print(\"Results:\", results)\n",
    "print(\"Time:\", end - start)"
   ]
  },
  {
   "cell_type": "markdown",
   "metadata": {},
   "source": [
    "### Sentinel Data"
   ]
  },
  {
   "cell_type": "code",
   "execution_count": null,
   "metadata": {},
   "outputs": [],
   "source": [
    "import mlstac\n",
    "\n",
    "mlstac.download(\n",
    "    snippet=\"isp-uv-es/CloudSEN12Plus\", path=\"data\", split=\"validation\", quiet=True\n",
    ")  # use \"all\" to download the entire dataset\n",
    "# Load the ML-STAC collection\n",
    "ds = mlstac.load(snippet=\"data/main.json\")"
   ]
  },
  {
   "cell_type": "code",
   "execution_count": null,
   "metadata": {},
   "outputs": [],
   "source": [
    "ds.metadata[\"split\"].unique()  # ['train', 'validation', 'test']"
   ]
  },
  {
   "cell_type": "code",
   "execution_count": null,
   "metadata": {},
   "outputs": [],
   "source": [
    "ds.metadata[\n",
    "    (ds.metadata[\"split\"] == \"validation\")\n",
    "    & (ds.metadata[\"label_type\"] == \"high\")\n",
    "    & (ds.metadata[\"proj_shape\"] == 509)\n",
    "]"
   ]
  },
  {
   "cell_type": "code",
   "execution_count": null,
   "metadata": {},
   "outputs": [],
   "source": [
    "# Load the metadata from the MLSTAC Collection file\n",
    "metadata = mlstac.load(snippet=\"data/main.json\").metadata\n",
    "\n",
    "# Split the metadata into train, validation and test sets\n",
    "train_dataset = metadata[\n",
    "    (metadata[\"split\"] == \"validation\")\n",
    "    & (metadata[\"label_type\"] == \"high\")\n",
    "    & (metadata[\"proj_shape\"] == 509)\n",
    "]\n",
    "\n",
    "sample = mlstac.get_data(dataset=train_dataset.iloc[0], quiet=True).squeeze()"
   ]
  },
  {
   "cell_type": "code",
   "execution_count": null,
   "metadata": {},
   "outputs": [],
   "source": [
    "sample.shape"
   ]
  },
  {
   "cell_type": "markdown",
   "metadata": {},
   "source": [
    "### Fault Detection"
   ]
  },
  {
   "cell_type": "markdown",
   "metadata": {},
   "source": [
    "- run inference with fi (p=1e-5)                            OK\n",
    "- get output statistics (-> intermediate output statistics) OK\n",
    "- classify based on z-scores                                OK\n",
    "- discard faulty samples                                    OK\n",
    "- compute metrics without faulty samples                    OK"
   ]
  },
  {
   "cell_type": "code",
   "execution_count": null,
   "metadata": {},
   "outputs": [],
   "source": [
    "import numpy as np\n",
    "import matplotlib.pyplot as plt\n",
    "\n",
    "p = np.load(\"p.npy\")\n",
    "pf = np.load(\"pf.npy\")"
   ]
  },
  {
   "cell_type": "code",
   "execution_count": null,
   "metadata": {},
   "outputs": [],
   "source": [
    "p.max(), pf.max(), p.min(), pf.min()"
   ]
  },
  {
   "cell_type": "code",
   "execution_count": null,
   "metadata": {},
   "outputs": [],
   "source": [
    "plt.hist(p.flatten(), bins=100, alpha=0.5, label=\"p\", log=True)\n",
    "plt.hist(pf.flatten(), bins=100, alpha=0.5, label=\"pf\", log=True)\n",
    "plt.legend()\n",
    "plt.show()"
   ]
  },
  {
   "cell_type": "code",
   "execution_count": null,
   "metadata": {},
   "outputs": [],
   "source": [
    "import numpy as np\n",
    "\n",
    "\n",
    "def hist_1d(a):\n",
    "    hist = np.histogram(a, bins=\"sqrt\", density=True)\n",
    "    return hist[0]\n",
    "\n",
    "\n",
    "def entropy(x):\n",
    "    b, c, _, _ = x.shape\n",
    "    x = x.reshape(b, c, -1)\n",
    "    b, c, _, _ = x.shape\n",
    "    x = x.reshape(b, c, -1)\n",
    "    norm = np.linalg.norm(x, ord=2, axis=1)\n",
    "    hist = np.apply_along_axis(hist_1d, axis=1, arr=norm)\n",
    "    return -np.sum(hist * np.log2(hist + 1e-9), axis=1)\n",
    "    hist = np.apply_along_axis(hist_1d, axis=1, arr=norm)\n",
    "    return -np.sum(hist * np.log2(hist + 1e-9), axis=1)"
   ]
  },
  {
   "cell_type": "code",
   "execution_count": null,
   "metadata": {},
   "outputs": [],
   "source": [
    "x = np.random.randn(4, 3, 28, 28)\n",
    "h = entropy(x)\n",
    "print(h)"
   ]
  },
  {
   "cell_type": "code",
   "execution_count": null,
   "metadata": {},
   "outputs": [],
   "source": [
    "def histograms(data, bin_edges):\n",
    "    indices = np.digitize(data, bin_edges)\n",
    "    histograms = np.zeros((data.shape[0], len(bin_edges) - 1))\n",
    "    for i, index in enumerate(np.unique(indices)):\n",
    "        histograms[:, i] = np.sum(indices == index, axis=1)\n",
    "    return histograms"
   ]
  },
  {
   "cell_type": "code",
   "execution_count": null,
   "metadata": {},
   "outputs": [],
   "source": [
    "import numpy as np"
   ]
  },
  {
   "cell_type": "code",
   "execution_count": null,
   "metadata": {},
   "outputs": [],
   "source": [
    "a = np.random.randn(4, 3, 28, 28)"
   ]
  },
  {
   "cell_type": "code",
   "execution_count": null,
   "metadata": {},
   "outputs": [],
   "source": [
    "np.sum(np.abs(a)) / a.shape[0], np.mean(np.abs(a))"
   ]
  },
  {
   "cell_type": "code",
   "execution_count": null,
   "metadata": {},
   "outputs": [],
   "source": [
    "np.mean(np.var(a, axis=(1, 2, 3)))"
   ]
  },
  {
   "cell_type": "code",
   "execution_count": null,
   "metadata": {},
   "outputs": [],
   "source": []
  }
 ],
 "metadata": {
  "kernelspec": {
   "display_name": "fi",
   "language": "python",
   "name": "python3"
  },
  "language_info": {
   "codemirror_mode": {
    "name": "ipython",
    "version": 3
   },
   "file_extension": ".py",
   "mimetype": "text/x-python",
   "name": "python",
   "nbconvert_exporter": "python",
   "pygments_lexer": "ipython3",
   "version": "3.10.15"
  }
 },
 "nbformat": 4,
 "nbformat_minor": 2
}
