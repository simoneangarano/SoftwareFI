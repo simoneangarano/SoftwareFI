{
 "cells": [
  {
   "cell_type": "markdown",
   "metadata": {},
   "source": [
    "# Sentinel Data"
   ]
  },
  {
   "cell_type": "code",
   "execution_count": 1,
   "metadata": {},
   "outputs": [],
   "source": [
    "import mlstac\n",
    "\n",
    "mlstac.download(\n",
    "    snippet=\"isp-uv-es/CloudSEN12Plus\", path=\"data\", split=\"test\", quiet=True\n",
    ")  # use \"all\" to download the entire dataset\n",
    "# Load the ML-STAC collection\n",
    "ds = mlstac.load(snippet=\"data/main.json\")"
   ]
  },
  {
   "cell_type": "code",
   "execution_count": null,
   "metadata": {},
   "outputs": [],
   "source": [
    "subset = ds.metadata[\n",
    "    (ds.metadata[\"split\"] == \"test\")\n",
    "    & (ds.metadata[\"label_type\"] == \"high\")\n",
    "    & (ds.metadata[\"proj_shape\"] == 509)\n",
    "][:10]\n",
    "datacube = mlstac.get_data(dataset=subset, quiet=True)\n",
    "datacube.shape"
   ]
  },
  {
   "cell_type": "code",
   "execution_count": null,
   "metadata": {},
   "outputs": [],
   "source": [
    "# Plot the first datapoint\n",
    "\n",
    "import matplotlib.pyplot as plt\n",
    "import numpy as np\n",
    "\n",
    "datapoint = datacube[0]\n",
    "datapoint_rgb = np.moveaxis(datapoint[[3, 2, 1]], 0, -1) / 5000\n",
    "fig, ax = plt.subplots(1, 3, figsize=(10, 5))\n",
    "ax[0].imshow(datapoint_rgb)\n",
    "ax[0].set_title(\"RGB\")\n",
    "ax[1].imshow(datapoint[13], cmap=\"gray\")\n",
    "ax[1].set_title(\"Human label\")\n",
    "ax[2].imshow(datapoint[14], cmap=\"gray\")\n",
    "ax[2].set_title(\"UnetMobV2 v1.0\")\n",
    "plt.show()"
   ]
  },
  {
   "cell_type": "code",
   "execution_count": null,
   "metadata": {},
   "outputs": [],
   "source": [
    "# Validation\n",
    "datapoint = datacube[0]\n",
    "datapoint_rgb = datapoint[[1, 2, 3, 7, 10], ...].astype(np.float32)  # BGRNIR\n",
    "datapoint.shape, datapoint_rgb.shape"
   ]
  },
  {
   "cell_type": "markdown",
   "metadata": {},
   "source": [
    "# Validation"
   ]
  },
  {
   "cell_type": "code",
   "execution_count": null,
   "metadata": {},
   "outputs": [],
   "source": [
    "import torch\n",
    "import pytorch_lightning as pl\n",
    "from pytorchfi import core as pfi_core\n",
    "\n",
    "from utils.utils import get_parser, parse_args\n",
    "from utils.data.data_module import CoreDataModule\n",
    "from utils.models.ghostnetv2 import ghostnetv2\n",
    "from utils.models.LightningModelWrapper import ModelWrapper\n",
    "\n",
    "torch.set_float32_matmul_precision(\"high\")\n",
    "pl.seed_everything(0, workers=True)\n",
    "torch.backends.cudnn.benchmark = True\n",
    "\n",
    "parser, config_parser = get_parser()\n",
    "args = parse_args(parser, config_parser)"
   ]
  },
  {
   "cell_type": "code",
   "execution_count": null,
   "metadata": {},
   "outputs": [],
   "source": [
    "# Define the datamodule\n",
    "datamodule = CoreDataModule(args, batch_size=128)\n",
    "\n",
    "# Define the trainer\n",
    "trainer = pl.Trainer(\n",
    "    max_epochs=100, callbacks=None, accelerator=\"auto\", precision=\"16-mixed\"\n",
    ")\n",
    "\n",
    "# Define the model\n",
    "model = ghostnetv2(\n",
    "    num_classes=0,\n",
    "    error_model=\"single\",\n",
    "    inject_p=0.0001,\n",
    "    inject_epoch=0,\n",
    "    ckpt=\"ckpt/GN_SSL_280.pt\",\n",
    ")\n",
    "\n",
    "x = torch.randn(1, 5, 512, 512)\n",
    "y, intermediates = model(x)\n",
    "print(y.shape)\n",
    "print(intermediates[-1].shape)\n",
    "\n",
    "model = ModelWrapper(model=model)\n",
    "\n",
    "pfi_model = pfi_core.fault_injection(\n",
    "    model.cuda(),\n",
    "    1,\n",
    "    input_shape=[5, 512, 512],\n",
    "    layer_types=[\n",
    "        # torch.nn.Conv1d,\n",
    "        torch.nn.Conv2d,\n",
    "        # torch.nn.Conv3d,\n",
    "        torch.nn.BatchNorm1d,\n",
    "        torch.nn.BatchNorm2d,\n",
    "        torch.nn.BatchNorm3d,\n",
    "        # torch.nn.Linear,\n",
    "    ],\n",
    "    use_cuda=True,\n",
    ")\n",
    "pfi_model.print_pytorchfi_layer_summary()\n",
    "pass"
   ]
  },
  {
   "cell_type": "markdown",
   "metadata": {},
   "source": [
    "Blocks (12 to toggle): \n",
    "* ConvBnAct ✅\n",
    "* 9 Blocks ✅ ( consisting of 16 GhostBottleneckV2 sub-blocks) ❌\n",
    "* ConvBnAct ✅\n",
    "* AdaptiveAvgPool2d ❌\n",
    "* ConvAct ✅\n",
    "* Linear ❌\n",
    "\n",
    "\n",
    "Block Types (2 to toggle):\n",
    "* Conv2d ✅\n",
    "* BatchNorm2d ✅\n",
    "* Linear ❌\n",
    "\n",
    "inject_index (259 in total):\n",
    "* 137 Conv2d ✅\n",
    "* 122 BatchNorm2d ✅"
   ]
  },
  {
   "cell_type": "code",
   "execution_count": null,
   "metadata": {},
   "outputs": [],
   "source": [
    "import csv\n",
    "\n",
    "csv_file = open(\"ckpt/layers.csv\", mode=\"r\")\n",
    "csv_reader = csv.reader(csv_file)\n",
    "layers = [row[0] for row in csv_reader]\n",
    "\n",
    "i = 100\n",
    "layer_type = layers[i]\n",
    "print(layer_type)"
   ]
  },
  {
   "cell_type": "code",
   "execution_count": null,
   "metadata": {},
   "outputs": [],
   "source": [
    "# Start the training\n",
    "_ = trainer.validate(model=model, datamodule=datamodule)\n",
    "print(intermediates[-1].shape)"
   ]
  },
  {
   "cell_type": "code",
   "execution_count": 60,
   "metadata": {},
   "outputs": [],
   "source": [
    "inj_layers = []\n",
    "idx = 0\n",
    "for i, (name, desc) in enumerate(model.model.named_modules()):\n",
    "    n = name\n",
    "    t = str(type(desc)).split('.')[-1].split(\"'\")[0]\n",
    "    if t in [\"Conv2d\", \"BatchNorm2d\"]:\n",
    "        inj_layers.append((idx, t, i, n))\n",
    "        idx += 1"
   ]
  },
  {
   "cell_type": "code",
   "execution_count": null,
   "metadata": {},
   "outputs": [],
   "source": [
    "inj_layers"
   ]
  },
  {
   "cell_type": "code",
   "execution_count": 62,
   "metadata": {},
   "outputs": [],
   "source": [
    "csv.writer(open(\"ckpt/layers_info.csv\", mode=\"w\")).writerows(inj_layers)"
   ]
  },
  {
   "cell_type": "code",
   "execution_count": null,
   "metadata": {},
   "outputs": [],
   "source": [
    "weights = torch.load(\"ckpt/GN_SSL_280.pt\")\n",
    "weights.keys()"
   ]
  },
  {
   "cell_type": "markdown",
   "metadata": {},
   "source": [
    "# Validation Results"
   ]
  },
  {
   "cell_type": "code",
   "execution_count": null,
   "metadata": {},
   "outputs": [],
   "source": [
    "import json, csv\n",
    "from utils.utils import get_parser, parse_args\n",
    "\n",
    "parser, config_parser = get_parser()\n",
    "args = parse_args(parser, config_parser)\n",
    "\n",
    "reader = csv.reader(open(\"ckpt/layers_info.csv\", mode=\"r\"))\n",
    "layers = [{'inj_idx':inj_idx, 'layer_type':layer_type, 'model_idx':model_idx, 'layer_name':layer_name} for inj_idx, layer_type, model_idx, layer_name in reader]\n",
    "results = json.load(open(f\"ckpt/{args.name}_results.json\", \"r\"))"
   ]
  },
  {
   "cell_type": "code",
   "execution_count": null,
   "metadata": {},
   "outputs": [],
   "source": [
    "for i, (err, check) in results.items():\n",
    "    if check < 1e-6:\n",
    "        print(f\"{i} {layers[int(i)]['layer_type']} \\n  {layers[int(i)]['layer_name']} \\n  {err}\\n\")\n",
    "    else:\n",
    "        raise ValueError(f\"{layers[int(i)]} \\n{err} \\t {check}\")"
   ]
  },
  {
   "cell_type": "code",
   "execution_count": null,
   "metadata": {},
   "outputs": [],
   "source": [
    "%matplotlib widget\n",
    "import matplotlib.pyplot as plt\n",
    "\n",
    "x = [int(i) for i, (err, _) in results.items() if layers[int(i)]['layer_type'] == \"Conv2d\"]\n",
    "y = [err for i, (err, _) in results.items() if layers[int(i)]['layer_type'] == \"Conv2d\"]\n",
    "plt.semilogy(x, y, label=f\"Conv: {sum(y)/len(y):.2e}\")\n",
    "x = [int(i) - 1 for i, (err, _) in results.items() if layers[int(i)]['layer_type'] == \"BatchNorm2d\"]\n",
    "y = [err for i, (err, _) in results.items() if layers[int(i)]['layer_type'] == \"BatchNorm2d\"]\n",
    "plt.semilogy(x, y, label=f\"BN: {sum(y)/len(y):.2e}\")\n",
    "# x = [int(i) for i, (err, _) in results.items()]\n",
    "# y = [check for i, (_, check) in results.items()]\n",
    "# plt.semilogy(x, y, label=\"BatchNorm2d\")\n",
    "plt.legend(loc=\"lower left\")\n",
    "plt.show()"
   ]
  },
  {
   "cell_type": "markdown",
   "metadata": {},
   "source": [
    "* Short Conv module is very robust to injection\n",
    "* BatchNorm2d is slightly less robust to injection than Conv2d"
   ]
  },
  {
   "cell_type": "markdown",
   "metadata": {},
   "source": [
    "# Misc"
   ]
  },
  {
   "cell_type": "code",
   "execution_count": null,
   "metadata": {},
   "outputs": [],
   "source": [
    "# From TIF file to numpy array\n",
    "\n",
    "import numpy as np\n",
    "import rasterio\n",
    "\n",
    "img_path = \"data/2021-09-01T10-00-00Z.tif\"\n",
    "\n",
    "# Open the images using rasterio\n",
    "with rasterio.open(img_path) as img:\n",
    "    b02 = img.read(2)  # Band 2 = Blue\n",
    "    b03 = img.read(3)  # Band 3 = Green\n",
    "    b04 = img.read(4)  # Band 4 = Red\n",
    "    b08 = img.read(8)  # Band 8 = NIR\n",
    "    b11 = img.read(11)  # Band 11 = SWIR1\n",
    "\n",
    "    # Stack the bands\n",
    "    img_image = np.stack([b02, b03, b04, b08, b11], axis=0).astype(np.float32)\n",
    "# From TIF file to numpy array\n",
    "\n",
    "import numpy as np\n",
    "import rasterio\n",
    "\n",
    "img_path = \"data/2021-09-01T10-00-00Z.tif\"\n",
    "\n",
    "# Open the images using rasterio\n",
    "with rasterio.open(img_path) as img:\n",
    "    b02 = img.read(2)  # Band 2 = Blue\n",
    "    b03 = img.read(3)  # Band 3 = Green\n",
    "    b04 = img.read(4)  # Band 4 = Red\n",
    "    b08 = img.read(8)  # Band 8 = NIR\n",
    "    b11 = img.read(11)  # Band 11 = SWIR1\n",
    "\n",
    "    # Stack the bands\n",
    "    img_image = np.stack([b02, b03, b04, b08, b11], axis=0).astype(np.float32)"
   ]
  }
 ],
 "metadata": {
  "kernelspec": {
   "display_name": "fi",
   "language": "python",
   "name": "python3"
  },
  "language_info": {
   "codemirror_mode": {
    "name": "ipython",
    "version": 3
   },
   "file_extension": ".py",
   "mimetype": "text/x-python",
   "name": "python",
   "nbconvert_exporter": "python",
   "pygments_lexer": "ipython3",
   "version": "3.10.15"
  }
 },
 "nbformat": 4,
 "nbformat_minor": 2
}
