{
 "cells": [
  {
   "cell_type": "markdown",
   "metadata": {},
   "source": [
    "# Sentinel Data"
   ]
  },
  {
   "cell_type": "code",
   "execution_count": null,
   "metadata": {},
   "outputs": [],
   "source": [
    "import mlstac\n",
    "\n",
    "mlstac.download(\n",
    "    snippet=\"isp-uv-es/CloudSEN12Plus\", path=\"data\", split=\"validation\", quiet=True\n",
    ")  # use \"all\" to download the entire dataset\n",
    "# Load the ML-STAC collection\n",
    "ds = mlstac.load(snippet=\"data/main.json\")"
   ]
  },
  {
   "cell_type": "code",
   "execution_count": null,
   "metadata": {},
   "outputs": [],
   "source": [
    "ds.metadata[\"split\"].unique()  # ['train', 'validation', 'test']"
   ]
  },
  {
   "cell_type": "code",
   "execution_count": null,
   "metadata": {},
   "outputs": [],
   "source": [
    "ds.metadata[\n",
    "    (ds.metadata[\"split\"] == \"validation\")\n",
    "    & (ds.metadata[\"label_type\"] == \"high\")\n",
    "    & (ds.metadata[\"proj_shape\"] == 509)\n",
    "]"
   ]
  },
  {
   "cell_type": "code",
   "execution_count": null,
   "metadata": {},
   "outputs": [],
   "source": [
    "# Load the metadata from the MLSTAC Collection file\n",
    "metadata = mlstac.load(snippet=\"data/main.json\").metadata\n",
    "\n",
    "# Split the metadata into train, validation and test sets\n",
    "train_dataset = metadata[\n",
    "    (metadata[\"split\"] == \"validation\")\n",
    "    & (metadata[\"label_type\"] == \"high\")\n",
    "    & (metadata[\"proj_shape\"] == 509)\n",
    "]\n",
    "\n",
    "sample = mlstac.get_data(dataset=train_dataset.iloc[0], quiet=True).squeeze()"
   ]
  },
  {
   "cell_type": "code",
   "execution_count": null,
   "metadata": {},
   "outputs": [],
   "source": [
    "sample.shape"
   ]
  },
  {
   "cell_type": "markdown",
   "metadata": {},
   "source": [
    "# Pretrained Model"
   ]
  },
  {
   "cell_type": "code",
   "execution_count": null,
   "metadata": {},
   "outputs": [],
   "source": [
    "import torch\n",
    "from utils.models.ghostnetv2 import (\n",
    "    ghostnetv2,\n",
    "    SegmentationHeadGhostBN,\n",
    "    GhostNetSS,\n",
    "    load_fi_weights,\n",
    ")\n",
    "from utils.utils import get_parser, parse_args\n",
    "\n",
    "parser, config_parser = get_parser()\n",
    "args = parse_args(parser, config_parser, args=\"\", verbose=False)\n",
    "\n",
    "# Define the model\n",
    "backbone = ghostnetv2(args)\n",
    "\n",
    "x = torch.randn(1, 5, 512, 512)\n",
    "(y, fwargs), intermediates = backbone(x)\n",
    "print(y.shape)\n",
    "print([inter.shape for inter in intermediates])\n",
    "print(fwargs)"
   ]
  },
  {
   "cell_type": "code",
   "execution_count": null,
   "metadata": {},
   "outputs": [],
   "source": [
    "head = SegmentationHeadGhostBN(args)\n",
    "model = GhostNetSS(backbone, head, args)"
   ]
  },
  {
   "cell_type": "code",
   "execution_count": null,
   "metadata": {},
   "outputs": [],
   "source": [
    "l_model = [l for l in model.state_dict().keys() if \"dummy\" not in l]\n",
    "l_weights = list(torch.load(\"ckpt/bb_heads_clouds.pth\", weights_only=True).keys())"
   ]
  },
  {
   "cell_type": "code",
   "execution_count": null,
   "metadata": {},
   "outputs": [],
   "source": [
    "len(l_model), len(l_weights)"
   ]
  },
  {
   "cell_type": "code",
   "execution_count": null,
   "metadata": {},
   "outputs": [],
   "source": [
    "list(zip(l_model, l_weights))"
   ]
  },
  {
   "cell_type": "code",
   "execution_count": null,
   "metadata": {},
   "outputs": [],
   "source": [
    "model = load_fi_weights(model, \"ckpt/bb_heads_clouds.pth\").cuda()"
   ]
  },
  {
   "cell_type": "markdown",
   "metadata": {},
   "source": [
    "# Save Layer Info"
   ]
  },
  {
   "cell_type": "code",
   "execution_count": null,
   "metadata": {},
   "outputs": [],
   "source": [
    "%load_ext autoreload\n",
    "%autoreload 2\n",
    "\n",
    "import csv\n",
    "import torch\n",
    "import pytorch_lightning as pl\n",
    "\n",
    "# from pytorchfi import core as pfi_core\n",
    "\n",
    "from utils.utils import get_parser, parse_args, build_model\n",
    "from utils.data.data_module import CoreDataModule\n",
    "from utils.models.LightningModelWrapper import ModelWrapper\n",
    "\n",
    "torch.set_float32_matmul_precision(\"high\")\n",
    "pl.seed_everything(0, workers=True)\n",
    "torch.backends.cudnn.benchmark = True\n",
    "\n",
    "parser, config_parser = get_parser()\n",
    "args = parse_args(parser, config_parser, args=\"\", verbose=False)"
   ]
  },
  {
   "cell_type": "code",
   "execution_count": null,
   "metadata": {},
   "outputs": [],
   "source": [
    "# Define the datamodule\n",
    "datamodule = CoreDataModule(args)\n",
    "\n",
    "# Define the model\n",
    "net = build_model(args)\n",
    "net = net.cuda().eval()\n",
    "\n",
    "model = ModelWrapper(model=net, args=args)\n",
    "\n",
    "# pfi_model = pfi_core.fault_injection(\n",
    "#     model.cuda(),\n",
    "#     1,\n",
    "#     input_shape=[5, 512, 512],\n",
    "#     layer_types=[\n",
    "#         torch.nn.Conv1d,\n",
    "#         torch.nn.Conv2d,\n",
    "#         torch.nn.Conv3d,\n",
    "#         torch.nn.BatchNorm1d,\n",
    "#         torch.nn.BatchNorm2d,\n",
    "#         torch.nn.BatchNorm3d,\n",
    "#         torch.nn.Linear,\n",
    "#     ],\n",
    "#     use_cuda=True,\n",
    "# )\n",
    "# pfi_model.print_pytorchfi_layer_summary()"
   ]
  },
  {
   "cell_type": "markdown",
   "metadata": {},
   "source": [
    "Blocks (12 to toggle): \n",
    "* ConvBnAct ✅\n",
    "* 9 Blocks ✅ ( consisting of 16 GhostBottleneckV2 sub-blocks) ❌\n",
    "* ConvBnAct ✅\n",
    "* AdaptiveAvgPool2d ❌\n",
    "* ConvAct ✅\n",
    "* Linear ❌\n",
    "\n",
    "\n",
    "Block Types (2 to toggle):\n",
    "* Conv2d ✅\n",
    "* BatchNorm2d ✅\n",
    "* Linear ❌\n",
    "\n",
    "inject_index (259 in total):\n",
    "* 137 Conv2d ✅\n",
    "* 122 BatchNorm2d ✅"
   ]
  },
  {
   "cell_type": "code",
   "execution_count": null,
   "metadata": {},
   "outputs": [],
   "source": [
    "inj_layers = []\n",
    "idx = 0\n",
    "for i, (name, desc) in enumerate(model.model.named_modules()):\n",
    "    n = name\n",
    "    t = str(type(desc)).split(\".\")[-1].split(\"'\")[0]\n",
    "    if t in [\"Conv2d\", \"BatchNorm2d\", \"Linear\"]:\n",
    "        inj_layers.append((idx, t, i, n))\n",
    "        idx += 1"
   ]
  },
  {
   "cell_type": "code",
   "execution_count": null,
   "metadata": {},
   "outputs": [],
   "source": [
    "csv.writer(open(f\"cfg/{args.name}_layers_info.csv\", mode=\"w\")).writerows(inj_layers)"
   ]
  },
  {
   "cell_type": "markdown",
   "metadata": {},
   "source": [
    "# Validation Results"
   ]
  },
  {
   "cell_type": "code",
   "execution_count": null,
   "metadata": {},
   "outputs": [],
   "source": [
    "import json, csv\n",
    "from utils.utils import get_parser, parse_args, plot_results\n",
    "\n",
    "parser, config_parser = get_parser()\n",
    "args = parse_args(parser, config_parser, args=\"\", verbose=False)\n",
    "\n",
    "reader = csv.reader(open(f\"cfg/{args.name}_layers_info.csv\", mode=\"r\"))\n",
    "layers = [\n",
    "    {\n",
    "        \"inj_idx\": inj_idx,\n",
    "        \"layer_type\": layer_type,\n",
    "        \"model_idx\": model_idx,\n",
    "        \"layer_name\": layer_name,\n",
    "    }\n",
    "    for inj_idx, layer_type, model_idx, layer_name in reader\n",
    "]\n",
    "results = json.load(open(f\"ckpt/{args.exp}_eval.json\", \"r\"))"
   ]
  },
  {
   "cell_type": "code",
   "execution_count": null,
   "metadata": {},
   "outputs": [],
   "source": [
    "# %matplotlib widget\n",
    "plot_results(results, layers, \"acc\")  # loss, acc, miou"
   ]
  },
  {
   "cell_type": "markdown",
   "metadata": {},
   "source": [
    "* Short Conv module is very robust to injection\n",
    "* BatchNorm2d is slightly less robust to injection than Conv2d"
   ]
  },
  {
   "cell_type": "markdown",
   "metadata": {},
   "source": [
    "# Intermediate Output Statistics"
   ]
  },
  {
   "cell_type": "code",
   "execution_count": null,
   "metadata": {},
   "outputs": [],
   "source": [
    "%load_ext autoreload\n",
    "%autoreload 2\n",
    "\n",
    "import json\n",
    "import pandas as pd\n",
    "\n",
    "from utils.utils import get_parser, parse_args, get_layer_type, plot_intermediate_stats\n",
    "from utils.models.ghostnetv2 import (\n",
    "    ghostnetv2,\n",
    "    SegmentationHeadGhostBN,\n",
    "    GhostNetSS,\n",
    ")\n",
    "\n",
    "parser, config_parser = get_parser()\n",
    "args = parse_args(parser, config_parser, args=\"\", verbose=False)"
   ]
  },
  {
   "cell_type": "code",
   "execution_count": null,
   "metadata": {},
   "outputs": [],
   "source": [
    "# Define the model\n",
    "backbone = ghostnetv2(\n",
    "    args=args,\n",
    ")\n",
    "head = SegmentationHeadGhostBN(args=args)\n",
    "model = GhostNetSS(backbone, head, args=args)\n",
    "# model = load_fi_weights(model, args.ckpt).cuda()"
   ]
  },
  {
   "cell_type": "code",
   "execution_count": null,
   "metadata": {},
   "outputs": [],
   "source": [
    "# Original model stats\n",
    "results = json.load(open(f\"ckpt/{args.exp.replace('iTrue','iFalse')}_stats.json\", \"r\"))\n",
    "results = pd.DataFrame.from_dict(\n",
    "    results, orient=\"index\", columns=[\"mean\", \"std\", \"min\", \"max\"]\n",
    ")\n",
    "llist = [get_layer_type(model, layer) for layer in results.index]\n",
    "results[\"name\"] = results.index\n",
    "results[\"layer_type\"] = llist\n",
    "results.reset_index(drop=True, inplace=True)"
   ]
  },
  {
   "cell_type": "code",
   "execution_count": null,
   "metadata": {},
   "outputs": [],
   "source": [
    "# Fault injected model stats\n",
    "fresults = json.load(open(f\"ckpt/{args.exp.replace('iFalse','iTrue')}_stats.json\", \"r\"))\n",
    "fresults = pd.DataFrame.from_dict(\n",
    "    fresults, orient=\"index\", columns=[\"mean\", \"std\", \"min\", \"max\"]\n",
    ")\n",
    "llist = [get_layer_type(model, layer) for layer in fresults.index]\n",
    "fresults[\"name\"] = fresults.index\n",
    "fresults[\"layer_type\"] = llist\n",
    "fresults.reset_index(drop=True, inplace=True)"
   ]
  },
  {
   "cell_type": "code",
   "execution_count": null,
   "metadata": {},
   "outputs": [],
   "source": [
    "plot_intermediate_stats(\n",
    "    results=results, fresults=fresults, per_layer=True, ylim=None, log=True, alpha=0.5\n",
    ")"
   ]
  },
  {
   "cell_type": "code",
   "execution_count": null,
   "metadata": {},
   "outputs": [],
   "source": [
    "# Conv: -\n",
    "# Linear: -\n",
    "# BN: ClipBN (min, max) -> 0 or (min, max) (or 10x)\n",
    "# Activation: ClipAct (min, max) -> 0 or (min, max) (or 10x)\n",
    "# AvgPool: ClipAvgPool2d (min, max) -> 0 or (min, max) (or 10x)"
   ]
  },
  {
   "cell_type": "markdown",
   "metadata": {},
   "source": [
    "# Predictions"
   ]
  },
  {
   "cell_type": "code",
   "execution_count": null,
   "metadata": {},
   "outputs": [],
   "source": [
    "import matplotlib.pyplot as plt\n",
    "\n",
    "from utils.data.data_module import CoreDataModule\n",
    "from utils.utils import build_model, get_parser, parse_args"
   ]
  },
  {
   "cell_type": "code",
   "execution_count": null,
   "metadata": {},
   "outputs": [],
   "source": [
    "parser, config_parser = get_parser()\n",
    "args = parse_args(parser, config_parser, args=\"\", verbose=False)\n",
    "# args.batch_size = 1\n",
    "\n",
    "datamodule = CoreDataModule(args)\n",
    "net = build_model(args)\n",
    "net = net.cuda().eval()"
   ]
  },
  {
   "cell_type": "code",
   "execution_count": null,
   "metadata": {},
   "outputs": [],
   "source": [
    "args"
   ]
  },
  {
   "cell_type": "code",
   "execution_count": null,
   "metadata": {},
   "outputs": [],
   "source": [
    "for _, batch in enumerate(datamodule.val_dataloader()):\n",
    "    batch = [b.cuda() for b in batch]\n",
    "    noisy, clean = net.validation_step(batch, inject_index=args.inject_index)\n",
    "    if clean[\"loss\"].detach().cpu().numpy() != noisy[\"loss\"].detach().cpu().numpy():\n",
    "        print(\n",
    "            clean[\"loss\"].detach().cpu().numpy(),\n",
    "            clean[\"acc\"].detach().cpu().numpy(),\n",
    "            clean[\"miou\"].detach().cpu().numpy(),\n",
    "            clean[\"f1\"].detach().cpu().numpy(),\n",
    "        )\n",
    "        print(\n",
    "            noisy[\"loss\"].detach().cpu().numpy(),\n",
    "            noisy[\"acc\"].detach().cpu().numpy(),\n",
    "            noisy[\"miou\"].detach().cpu().numpy(),\n",
    "            noisy[\"f1\"].detach().cpu().numpy(),\n",
    "            end=\"\\n\\n\",\n",
    "        )"
   ]
  },
  {
   "cell_type": "code",
   "execution_count": null,
   "metadata": {},
   "outputs": [],
   "source": [
    "plt.imshow(clean[\"y\"][0].detach().cpu().numpy().squeeze())\n",
    "print(clean[\"y\"][0].detach().cpu().squeeze().unique())\n",
    "plt.show()\n",
    "\n",
    "plt.imshow(clean[\"preds\"][0].detach().cpu().numpy().squeeze())\n",
    "print(clean[\"preds\"][0].detach().cpu().squeeze().unique())\n",
    "plt.show()\n",
    "\n",
    "plt.imshow(noisy[\"preds\"][0].detach().cpu().numpy().squeeze())\n",
    "print(noisy[\"preds\"][0].detach().cpu().squeeze().unique())\n",
    "plt.show()"
   ]
  },
  {
   "cell_type": "markdown",
   "metadata": {},
   "source": [
    "# _misc"
   ]
  },
  {
   "cell_type": "markdown",
   "metadata": {},
   "source": [
    "### Import .tif"
   ]
  },
  {
   "cell_type": "code",
   "execution_count": null,
   "metadata": {},
   "outputs": [],
   "source": [
    "# From TIF file to numpy array\n",
    "\n",
    "import numpy as np\n",
    "import rasterio\n",
    "\n",
    "img_path = \"data/2021-09-01T10-00-00Z.tif\"\n",
    "\n",
    "# Open the images using rasterio\n",
    "with rasterio.open(img_path) as img:\n",
    "    b02 = img.read(2)  # Band 2 = Blue\n",
    "    b03 = img.read(3)  # Band 3 = Green\n",
    "    b04 = img.read(4)  # Band 4 = Red\n",
    "    b08 = img.read(8)  # Band 8 = NIR\n",
    "    b11 = img.read(11)  # Band 11 = SWIR1\n",
    "\n",
    "    # Stack the bands\n",
    "    img_image = np.stack([b02, b03, b04, b08, b11], axis=0).astype(np.float32)\n",
    "# From TIF file to numpy array\n",
    "\n",
    "import numpy as np\n",
    "import rasterio\n",
    "\n",
    "img_path = \"data/2021-09-01T10-00-00Z.tif\"\n",
    "\n",
    "# Open the images using rasterio\n",
    "with rasterio.open(img_path) as img:\n",
    "    b02 = img.read(2)  # Band 2 = Blue\n",
    "    b03 = img.read(3)  # Band 3 = Green\n",
    "    b04 = img.read(4)  # Band 4 = Red\n",
    "    b08 = img.read(8)  # Band 8 = NIR\n",
    "    b11 = img.read(11)  # Band 11 = SWIR1\n",
    "\n",
    "    # Stack the bands\n",
    "    img_image = np.stack([b02, b03, b04, b08, b11], axis=0).astype(np.float32)"
   ]
  },
  {
   "cell_type": "markdown",
   "metadata": {},
   "source": [
    "### Update faulty_idxs"
   ]
  },
  {
   "cell_type": "code",
   "execution_count": null,
   "metadata": {},
   "outputs": [],
   "source": [
    "import torch\n",
    "\n",
    "BS = 4\n",
    "faulty_idxs = -torch.ones(BS)"
   ]
  },
  {
   "cell_type": "code",
   "execution_count": null,
   "metadata": {},
   "outputs": [],
   "source": [
    "sampled_indexes = torch.randint(0, 2, (BS,))\n",
    "cnt = 99"
   ]
  },
  {
   "cell_type": "code",
   "execution_count": null,
   "metadata": {},
   "outputs": [],
   "source": [
    "faulty_idxs, sampled_indexes"
   ]
  },
  {
   "cell_type": "code",
   "execution_count": null,
   "metadata": {},
   "outputs": [],
   "source": [
    "faulty_idxs += (faulty_idxs < 0) * sampled_indexes * (cnt + 1)"
   ]
  },
  {
   "cell_type": "code",
   "execution_count": null,
   "metadata": {},
   "outputs": [],
   "source": []
  }
 ],
 "metadata": {
  "kernelspec": {
   "display_name": "fi",
   "language": "python",
   "name": "python3"
  },
  "language_info": {
   "codemirror_mode": {
    "name": "ipython",
    "version": 3
   },
   "file_extension": ".py",
   "mimetype": "text/x-python",
   "name": "python",
   "nbconvert_exporter": "python",
   "pygments_lexer": "ipython3",
   "version": "3.10.15"
  }
 },
 "nbformat": 4,
 "nbformat_minor": 2
}
