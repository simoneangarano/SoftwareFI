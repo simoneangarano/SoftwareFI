{
 "cells": [
  {
   "cell_type": "code",
   "execution_count": 1,
   "metadata": {},
   "outputs": [],
   "source": [
    "import torch\n",
    "from pytorch_scripts.ghostnetv2 import ghostnetv2"
   ]
  },
  {
   "cell_type": "code",
   "execution_count": 3,
   "metadata": {},
   "outputs": [],
   "source": [
    "def load_fi_weights(model, filename, verbose=False):\n",
    "    count = 0\n",
    "    new_dict = {}\n",
    "    weights = torch.load(filename, weights_only=True)\n",
    "    state_dict = model.state_dict()\n",
    "    for name, param in state_dict.items():\n",
    "        if verbose:\n",
    "            print(name, param.data.shape)\n",
    "        if \"dummy\" in name:\n",
    "            if verbose:\n",
    "                print(\"-\\n\")\n",
    "            continue\n",
    "        new_name = name.replace(\"conv.weight\", \"weight\").replace(\"conv.bias\", \"bias\")\n",
    "        new_name = new_name.replace(\"linear.weight\", \"weight\").replace(\n",
    "            \"linear.bias\", \"bias\"\n",
    "        )\n",
    "        new_name = new_name.replace(\".layers\", \"\")\n",
    "        new_weights = weights[new_name]\n",
    "        if verbose:\n",
    "            print(new_name, new_weights.shape, \"\\n\")\n",
    "        count += 1\n",
    "        if param.data.shape != new_weights.shape:\n",
    "            raise ValueError(\n",
    "                f\"Shape mismatch: {param.data.shape} != {new_weights.shape}\"\n",
    "            )\n",
    "        new_dict[name] = new_weights\n",
    "\n",
    "    print(f\"Loaded {count} weights\")\n",
    "    model.load_state_dict(new_dict, strict=False)"
   ]
  },
  {
   "cell_type": "code",
   "execution_count": 4,
   "metadata": {},
   "outputs": [
    {
     "name": "stdout",
     "output_type": "stream",
     "text": [
      "torch.Size([1, 1000])\n",
      "10\n"
     ]
    }
   ],
   "source": [
    "model = ghostnetv2()\n",
    "x = torch.randn(1, 5, 224, 224)\n",
    "y, intermediates = model(x)\n",
    "print(y.shape)\n",
    "print(len(intermediates))"
   ]
  },
  {
   "cell_type": "code",
   "execution_count": 5,
   "metadata": {},
   "outputs": [
    {
     "name": "stdout",
     "output_type": "stream",
     "text": [
      "Loaded 764 weights\n"
     ]
    }
   ],
   "source": [
    "load_fi_weights(model, \"weights/GN_SSL_280.pt\")"
   ]
  }
 ],
 "metadata": {
  "kernelspec": {
   "display_name": "PyTorchALFI",
   "language": "python",
   "name": "python3"
  },
  "language_info": {
   "codemirror_mode": {
    "name": "ipython",
    "version": 3
   },
   "file_extension": ".py",
   "mimetype": "text/x-python",
   "name": "python",
   "nbconvert_exporter": "python",
   "pygments_lexer": "ipython3",
   "version": "3.9.19"
  }
 },
 "nbformat": 4,
 "nbformat_minor": 2
}
